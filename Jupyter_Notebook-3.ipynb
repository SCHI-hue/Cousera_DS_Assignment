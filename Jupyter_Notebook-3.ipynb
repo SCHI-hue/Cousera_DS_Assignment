{
 "cells": [
  {
   "cell_type": "markdown",
   "metadata": {},
   "source": [
    "<center>\n",
    "    <img src=\"https://cf-courses-data.s3.us.cloud-object-storage.appdomain.cloud/IBMDeveloperSkillsNetwork-DS0105EN-SkillsNetwork/labs/Module2/images/SN_web_lightmode.png\" width=\"300\" alt=\"cognitiveclass.ai logo\">\n",
    "</center>\n"
   ]
  },
  {
   "cell_type": "markdown",
   "metadata": {},
   "source": [
    "# Description "
   ]
  },
  {
   "cell_type": "markdown",
   "metadata": {},
   "source": [
    "#### Add your code below following the instructions given in the course\n"
   ]
  },
  {
   "cell_type": "markdown",
   "metadata": {},
   "source": [
    "# Data Science Tools Assignment "
   ]
  },
  {
   "cell_type": "markdown",
   "metadata": {},
   "source": [
    "## Introduction : \n",
    "### This is Data Science Tools Learning Deep-Dive. It will cover several answers to the given questions."
   ]
  },
  {
   "cell_type": "markdown",
   "metadata": {},
   "source": [
    "### Data Science Languages : \n",
    "* SQL,\n",
    "* Python,\n",
    "* R,\n",
    "* Scala ,\n",
    "* Java ,\n",
    "* C++,\n",
    "* Julia,\n",
    "* Javascript,\n",
    "* PHP,\n",
    "* Go,\n",
    "* Ruby,\n",
    "* Visual Basic"
   ]
  },
  {
   "cell_type": "markdown",
   "metadata": {},
   "source": [
    "### Data Science Libraries: \n",
    "* Pandas, \n",
    "* Numpy, \n",
    "* Matplotlib, \n",
    "* Seaborn,\n",
    "* Scikit-learn, \n",
    "* Keras,\n",
    "* PyTorch, \n",
    "* TensorFlow, \n",
    "* Apache Spark, \n",
    "* Vegas, \n",
    "* Big DL, \n",
    "* Ggplot2"
   ]
  },
  {
   "cell_type": "markdown",
   "metadata": {
    "tags": []
   },
   "source": [
    "### Data Science Tools: \n",
    "* Anaconda\n",
    "* Jupyter Notebook\n",
    "* RStudio\n",
    "* Spyder\n",
    "* Zepplin"
   ]
  },
  {
   "cell_type": "markdown",
   "metadata": {},
   "source": [
    "Example : c = a * b + 3"
   ]
  },
  {
   "cell_type": "code",
   "execution_count": 4,
   "metadata": {},
   "outputs": [
    {
     "name": "stdout",
     "output_type": "stream",
     "text": [
      "23 7\n"
     ]
    }
   ],
   "source": [
    "x = 5\n",
    "y = 7\n",
    "if x >3:\n",
    "    x = y * 3 + 2\n",
    "    print(x, y)\n"
   ]
  },
  {
   "cell_type": "code",
   "execution_count": 1,
   "metadata": {},
   "outputs": [
    {
     "data": {
      "text/plain": [
       "6"
      ]
     },
     "execution_count": 1,
     "metadata": {},
     "output_type": "execute_result"
    }
   ],
   "source": [
    "#This will convert 360 Minutes to Hours by dividing by 60\n",
    "360 // 60"
   ]
  },
  {
   "cell_type": "markdown",
   "metadata": {},
   "source": [
    "## __Objectives__\n",
    "1. add comments to code\n",
    "2. create markdown cells\n",
    "3. add ordered lists\n",
    "4. format the content in markdown cells with Heading Style"
   ]
  },
  {
   "cell_type": "markdown",
   "metadata": {},
   "source": [
    "|Author|\n",
    "|------|\n",
    "|JINGCHI|\n"
   ]
  },
  {
   "cell_type": "code",
   "execution_count": null,
   "metadata": {},
   "outputs": [],
   "source": []
  },
  {
   "cell_type": "code",
   "execution_count": null,
   "metadata": {},
   "outputs": [],
   "source": []
  },
  {
   "cell_type": "code",
   "execution_count": null,
   "metadata": {},
   "outputs": [],
   "source": []
  }
 ],
 "metadata": {
  "kernelspec": {
   "display_name": "Python",
   "language": "python",
   "name": "conda-env-python-py"
  },
  "language_info": {
   "codemirror_mode": {
    "name": "ipython",
    "version": 3
   },
   "file_extension": ".py",
   "mimetype": "text/x-python",
   "name": "python",
   "nbconvert_exporter": "python",
   "pygments_lexer": "ipython3",
   "version": "3.7.12"
  }
 },
 "nbformat": 4,
 "nbformat_minor": 4
}
